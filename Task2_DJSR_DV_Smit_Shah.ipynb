{
  "nbformat": 4,
  "nbformat_minor": 0,
  "metadata": {
    "colab": {
      "provenance": []
    },
    "kernelspec": {
      "name": "python3",
      "display_name": "Python 3"
    },
    "language_info": {
      "name": "python"
    },
    "accelerator": "GPU",
    "gpuClass": "standard"
  },
  "cells": [
    {
      "cell_type": "markdown",
      "metadata": {
        "id": "C8KlsCFL1tvs"
      },
      "source": [
        "# Task 2: Learning python libraries\n",
        "###### pandas, numpy, matplotlib"
      ]
    },
    {
      "cell_type": "markdown",
      "metadata": {
        "id": "2ufinDlF2oH7"
      },
      "source": [
        "## 1. Import pandas, numpy and matplotlib"
      ]
    },
    {
      "cell_type": "code",
      "source": [
        "from google.colab import drive\n",
        "drive.mount('/content/gdrive')"
      ],
      "metadata": {
        "id": "a6rEBs_SpsGk",
        "colab": {
          "base_uri": "https://localhost:8080/"
        },
        "outputId": "e70699c3-de98-4fc3-bb2a-48b549cdac43"
      },
      "execution_count": 102,
      "outputs": [
        {
          "output_type": "stream",
          "name": "stdout",
          "text": [
            "Drive already mounted at /content/gdrive; to attempt to forcibly remount, call drive.mount(\"/content/gdrive\", force_remount=True).\n"
          ]
        }
      ]
    },
    {
      "cell_type": "code",
      "metadata": {
        "id": "V0KqGm1I2mx6"
      },
      "source": [
        "import numpy as np\n",
        "import pandas as pd\n",
        "import matplotlib.pyplot as plt\n",
        "import seaborn as sns"
      ],
      "execution_count": 103,
      "outputs": []
    },
    {
      "cell_type": "code",
      "source": [
        "!pip install  opendatasets"
      ],
      "metadata": {
        "colab": {
          "base_uri": "https://localhost:8080/"
        },
        "id": "JahTfNy5PAVV",
        "outputId": "d319d327-9e5d-417c-a3cb-bed9ef2b0acb"
      },
      "execution_count": 104,
      "outputs": [
        {
          "output_type": "stream",
          "name": "stdout",
          "text": [
            "Looking in indexes: https://pypi.org/simple, https://us-python.pkg.dev/colab-wheels/public/simple/\n",
            "Requirement already satisfied: opendatasets in /usr/local/lib/python3.8/dist-packages (0.1.22)\n",
            "Requirement already satisfied: tqdm in /usr/local/lib/python3.8/dist-packages (from opendatasets) (4.64.1)\n",
            "Requirement already satisfied: click in /usr/local/lib/python3.8/dist-packages (from opendatasets) (7.1.2)\n",
            "Requirement already satisfied: kaggle in /usr/local/lib/python3.8/dist-packages (from opendatasets) (1.5.12)\n",
            "Requirement already satisfied: python-slugify in /usr/local/lib/python3.8/dist-packages (from kaggle->opendatasets) (7.0.0)\n",
            "Requirement already satisfied: urllib3 in /usr/local/lib/python3.8/dist-packages (from kaggle->opendatasets) (1.24.3)\n",
            "Requirement already satisfied: python-dateutil in /usr/local/lib/python3.8/dist-packages (from kaggle->opendatasets) (2.8.2)\n",
            "Requirement already satisfied: six>=1.10 in /usr/local/lib/python3.8/dist-packages (from kaggle->opendatasets) (1.15.0)\n",
            "Requirement already satisfied: requests in /usr/local/lib/python3.8/dist-packages (from kaggle->opendatasets) (2.25.1)\n",
            "Requirement already satisfied: certifi in /usr/local/lib/python3.8/dist-packages (from kaggle->opendatasets) (2022.12.7)\n",
            "Requirement already satisfied: text-unidecode>=1.3 in /usr/local/lib/python3.8/dist-packages (from python-slugify->kaggle->opendatasets) (1.3)\n",
            "Requirement already satisfied: idna<3,>=2.5 in /usr/local/lib/python3.8/dist-packages (from requests->kaggle->opendatasets) (2.10)\n",
            "Requirement already satisfied: chardet<5,>=3.0.2 in /usr/local/lib/python3.8/dist-packages (from requests->kaggle->opendatasets) (4.0.0)\n"
          ]
        }
      ]
    },
    {
      "cell_type": "code",
      "source": [
        "import opendatasets as od"
      ],
      "metadata": {
        "id": "ObJCUmQZPD0l"
      },
      "execution_count": 105,
      "outputs": []
    },
    {
      "cell_type": "code",
      "source": [
        "od.download(\"https://www.kaggle.com/c/titanic/data\")"
      ],
      "metadata": {
        "colab": {
          "base_uri": "https://localhost:8080/"
        },
        "id": "-pzvv_HmPhsl",
        "outputId": "7067ea22-bf35-4ff9-fa6e-84f8726fd154"
      },
      "execution_count": 106,
      "outputs": [
        {
          "output_type": "stream",
          "name": "stdout",
          "text": [
            "Skipping, found downloaded files in \"./titanic\" (use force=True to force download)\n"
          ]
        }
      ]
    },
    {
      "cell_type": "code",
      "metadata": {
        "id": "P0xumbaX27tR"
      },
      "source": [
        "import tensorflow as tf"
      ],
      "execution_count": 107,
      "outputs": []
    },
    {
      "cell_type": "markdown",
      "metadata": {
        "id": "5dFTZvpm28n7"
      },
      "source": [
        "## 2. load the data \n",
        "<br> load the titanic dataset in a pandas dataframe <br> (download dataset from https://www.kaggle.com/c/titanic/data and store it in a folder called <b>\"djsr_dv\"</b> in the root of your drive) <br>\n",
        "Note that you have to download the train and test csv files seperately"
      ]
    },
    {
      "cell_type": "code",
      "metadata": {
        "id": "mY_Fol-u1qmi"
      },
      "source": [
        "train_path = \"./titanic/train.csv\"\n",
        "test_path = \"./titanic/test.csv\"\n",
        "\n",
        "train_df=pd.read_csv(train_path)\n",
        "test_df=pd.read_csv(test_path)"
      ],
      "execution_count": 108,
      "outputs": []
    },
    {
      "cell_type": "code",
      "metadata": {
        "id": "loyfFwFK1s6-",
        "colab": {
          "base_uri": "https://localhost:8080/",
          "height": 424
        },
        "outputId": "898de863-7af2-4e8b-920d-d4e71489eef6"
      },
      "source": [
        "train_df.head(1000)"
      ],
      "execution_count": 109,
      "outputs": [
        {
          "output_type": "execute_result",
          "data": {
            "text/plain": [
              "     PassengerId  Survived  Pclass  \\\n",
              "0              1         0       3   \n",
              "1              2         1       1   \n",
              "2              3         1       3   \n",
              "3              4         1       1   \n",
              "4              5         0       3   \n",
              "..           ...       ...     ...   \n",
              "886          887         0       2   \n",
              "887          888         1       1   \n",
              "888          889         0       3   \n",
              "889          890         1       1   \n",
              "890          891         0       3   \n",
              "\n",
              "                                                  Name     Sex   Age  SibSp  \\\n",
              "0                              Braund, Mr. Owen Harris    male  22.0      1   \n",
              "1    Cumings, Mrs. John Bradley (Florence Briggs Th...  female  38.0      1   \n",
              "2                               Heikkinen, Miss. Laina  female  26.0      0   \n",
              "3         Futrelle, Mrs. Jacques Heath (Lily May Peel)  female  35.0      1   \n",
              "4                             Allen, Mr. William Henry    male  35.0      0   \n",
              "..                                                 ...     ...   ...    ...   \n",
              "886                              Montvila, Rev. Juozas    male  27.0      0   \n",
              "887                       Graham, Miss. Margaret Edith  female  19.0      0   \n",
              "888           Johnston, Miss. Catherine Helen \"Carrie\"  female   NaN      1   \n",
              "889                              Behr, Mr. Karl Howell    male  26.0      0   \n",
              "890                                Dooley, Mr. Patrick    male  32.0      0   \n",
              "\n",
              "     Parch            Ticket     Fare Cabin Embarked  \n",
              "0        0         A/5 21171   7.2500   NaN        S  \n",
              "1        0          PC 17599  71.2833   C85        C  \n",
              "2        0  STON/O2. 3101282   7.9250   NaN        S  \n",
              "3        0            113803  53.1000  C123        S  \n",
              "4        0            373450   8.0500   NaN        S  \n",
              "..     ...               ...      ...   ...      ...  \n",
              "886      0            211536  13.0000   NaN        S  \n",
              "887      0            112053  30.0000   B42        S  \n",
              "888      2        W./C. 6607  23.4500   NaN        S  \n",
              "889      0            111369  30.0000  C148        C  \n",
              "890      0            370376   7.7500   NaN        Q  \n",
              "\n",
              "[891 rows x 12 columns]"
            ],
            "text/html": [
              "\n",
              "  <div id=\"df-ea8eff0c-b7e5-45bc-a0a0-501e6147346d\">\n",
              "    <div class=\"colab-df-container\">\n",
              "      <div>\n",
              "<style scoped>\n",
              "    .dataframe tbody tr th:only-of-type {\n",
              "        vertical-align: middle;\n",
              "    }\n",
              "\n",
              "    .dataframe tbody tr th {\n",
              "        vertical-align: top;\n",
              "    }\n",
              "\n",
              "    .dataframe thead th {\n",
              "        text-align: right;\n",
              "    }\n",
              "</style>\n",
              "<table border=\"1\" class=\"dataframe\">\n",
              "  <thead>\n",
              "    <tr style=\"text-align: right;\">\n",
              "      <th></th>\n",
              "      <th>PassengerId</th>\n",
              "      <th>Survived</th>\n",
              "      <th>Pclass</th>\n",
              "      <th>Name</th>\n",
              "      <th>Sex</th>\n",
              "      <th>Age</th>\n",
              "      <th>SibSp</th>\n",
              "      <th>Parch</th>\n",
              "      <th>Ticket</th>\n",
              "      <th>Fare</th>\n",
              "      <th>Cabin</th>\n",
              "      <th>Embarked</th>\n",
              "    </tr>\n",
              "  </thead>\n",
              "  <tbody>\n",
              "    <tr>\n",
              "      <th>0</th>\n",
              "      <td>1</td>\n",
              "      <td>0</td>\n",
              "      <td>3</td>\n",
              "      <td>Braund, Mr. Owen Harris</td>\n",
              "      <td>male</td>\n",
              "      <td>22.0</td>\n",
              "      <td>1</td>\n",
              "      <td>0</td>\n",
              "      <td>A/5 21171</td>\n",
              "      <td>7.2500</td>\n",
              "      <td>NaN</td>\n",
              "      <td>S</td>\n",
              "    </tr>\n",
              "    <tr>\n",
              "      <th>1</th>\n",
              "      <td>2</td>\n",
              "      <td>1</td>\n",
              "      <td>1</td>\n",
              "      <td>Cumings, Mrs. John Bradley (Florence Briggs Th...</td>\n",
              "      <td>female</td>\n",
              "      <td>38.0</td>\n",
              "      <td>1</td>\n",
              "      <td>0</td>\n",
              "      <td>PC 17599</td>\n",
              "      <td>71.2833</td>\n",
              "      <td>C85</td>\n",
              "      <td>C</td>\n",
              "    </tr>\n",
              "    <tr>\n",
              "      <th>2</th>\n",
              "      <td>3</td>\n",
              "      <td>1</td>\n",
              "      <td>3</td>\n",
              "      <td>Heikkinen, Miss. Laina</td>\n",
              "      <td>female</td>\n",
              "      <td>26.0</td>\n",
              "      <td>0</td>\n",
              "      <td>0</td>\n",
              "      <td>STON/O2. 3101282</td>\n",
              "      <td>7.9250</td>\n",
              "      <td>NaN</td>\n",
              "      <td>S</td>\n",
              "    </tr>\n",
              "    <tr>\n",
              "      <th>3</th>\n",
              "      <td>4</td>\n",
              "      <td>1</td>\n",
              "      <td>1</td>\n",
              "      <td>Futrelle, Mrs. Jacques Heath (Lily May Peel)</td>\n",
              "      <td>female</td>\n",
              "      <td>35.0</td>\n",
              "      <td>1</td>\n",
              "      <td>0</td>\n",
              "      <td>113803</td>\n",
              "      <td>53.1000</td>\n",
              "      <td>C123</td>\n",
              "      <td>S</td>\n",
              "    </tr>\n",
              "    <tr>\n",
              "      <th>4</th>\n",
              "      <td>5</td>\n",
              "      <td>0</td>\n",
              "      <td>3</td>\n",
              "      <td>Allen, Mr. William Henry</td>\n",
              "      <td>male</td>\n",
              "      <td>35.0</td>\n",
              "      <td>0</td>\n",
              "      <td>0</td>\n",
              "      <td>373450</td>\n",
              "      <td>8.0500</td>\n",
              "      <td>NaN</td>\n",
              "      <td>S</td>\n",
              "    </tr>\n",
              "    <tr>\n",
              "      <th>...</th>\n",
              "      <td>...</td>\n",
              "      <td>...</td>\n",
              "      <td>...</td>\n",
              "      <td>...</td>\n",
              "      <td>...</td>\n",
              "      <td>...</td>\n",
              "      <td>...</td>\n",
              "      <td>...</td>\n",
              "      <td>...</td>\n",
              "      <td>...</td>\n",
              "      <td>...</td>\n",
              "      <td>...</td>\n",
              "    </tr>\n",
              "    <tr>\n",
              "      <th>886</th>\n",
              "      <td>887</td>\n",
              "      <td>0</td>\n",
              "      <td>2</td>\n",
              "      <td>Montvila, Rev. Juozas</td>\n",
              "      <td>male</td>\n",
              "      <td>27.0</td>\n",
              "      <td>0</td>\n",
              "      <td>0</td>\n",
              "      <td>211536</td>\n",
              "      <td>13.0000</td>\n",
              "      <td>NaN</td>\n",
              "      <td>S</td>\n",
              "    </tr>\n",
              "    <tr>\n",
              "      <th>887</th>\n",
              "      <td>888</td>\n",
              "      <td>1</td>\n",
              "      <td>1</td>\n",
              "      <td>Graham, Miss. Margaret Edith</td>\n",
              "      <td>female</td>\n",
              "      <td>19.0</td>\n",
              "      <td>0</td>\n",
              "      <td>0</td>\n",
              "      <td>112053</td>\n",
              "      <td>30.0000</td>\n",
              "      <td>B42</td>\n",
              "      <td>S</td>\n",
              "    </tr>\n",
              "    <tr>\n",
              "      <th>888</th>\n",
              "      <td>889</td>\n",
              "      <td>0</td>\n",
              "      <td>3</td>\n",
              "      <td>Johnston, Miss. Catherine Helen \"Carrie\"</td>\n",
              "      <td>female</td>\n",
              "      <td>NaN</td>\n",
              "      <td>1</td>\n",
              "      <td>2</td>\n",
              "      <td>W./C. 6607</td>\n",
              "      <td>23.4500</td>\n",
              "      <td>NaN</td>\n",
              "      <td>S</td>\n",
              "    </tr>\n",
              "    <tr>\n",
              "      <th>889</th>\n",
              "      <td>890</td>\n",
              "      <td>1</td>\n",
              "      <td>1</td>\n",
              "      <td>Behr, Mr. Karl Howell</td>\n",
              "      <td>male</td>\n",
              "      <td>26.0</td>\n",
              "      <td>0</td>\n",
              "      <td>0</td>\n",
              "      <td>111369</td>\n",
              "      <td>30.0000</td>\n",
              "      <td>C148</td>\n",
              "      <td>C</td>\n",
              "    </tr>\n",
              "    <tr>\n",
              "      <th>890</th>\n",
              "      <td>891</td>\n",
              "      <td>0</td>\n",
              "      <td>3</td>\n",
              "      <td>Dooley, Mr. Patrick</td>\n",
              "      <td>male</td>\n",
              "      <td>32.0</td>\n",
              "      <td>0</td>\n",
              "      <td>0</td>\n",
              "      <td>370376</td>\n",
              "      <td>7.7500</td>\n",
              "      <td>NaN</td>\n",
              "      <td>Q</td>\n",
              "    </tr>\n",
              "  </tbody>\n",
              "</table>\n",
              "<p>891 rows × 12 columns</p>\n",
              "</div>\n",
              "      <button class=\"colab-df-convert\" onclick=\"convertToInteractive('df-ea8eff0c-b7e5-45bc-a0a0-501e6147346d')\"\n",
              "              title=\"Convert this dataframe to an interactive table.\"\n",
              "              style=\"display:none;\">\n",
              "        \n",
              "  <svg xmlns=\"http://www.w3.org/2000/svg\" height=\"24px\"viewBox=\"0 0 24 24\"\n",
              "       width=\"24px\">\n",
              "    <path d=\"M0 0h24v24H0V0z\" fill=\"none\"/>\n",
              "    <path d=\"M18.56 5.44l.94 2.06.94-2.06 2.06-.94-2.06-.94-.94-2.06-.94 2.06-2.06.94zm-11 1L8.5 8.5l.94-2.06 2.06-.94-2.06-.94L8.5 2.5l-.94 2.06-2.06.94zm10 10l.94 2.06.94-2.06 2.06-.94-2.06-.94-.94-2.06-.94 2.06-2.06.94z\"/><path d=\"M17.41 7.96l-1.37-1.37c-.4-.4-.92-.59-1.43-.59-.52 0-1.04.2-1.43.59L10.3 9.45l-7.72 7.72c-.78.78-.78 2.05 0 2.83L4 21.41c.39.39.9.59 1.41.59.51 0 1.02-.2 1.41-.59l7.78-7.78 2.81-2.81c.8-.78.8-2.07 0-2.86zM5.41 20L4 18.59l7.72-7.72 1.47 1.35L5.41 20z\"/>\n",
              "  </svg>\n",
              "      </button>\n",
              "      \n",
              "  <style>\n",
              "    .colab-df-container {\n",
              "      display:flex;\n",
              "      flex-wrap:wrap;\n",
              "      gap: 12px;\n",
              "    }\n",
              "\n",
              "    .colab-df-convert {\n",
              "      background-color: #E8F0FE;\n",
              "      border: none;\n",
              "      border-radius: 50%;\n",
              "      cursor: pointer;\n",
              "      display: none;\n",
              "      fill: #1967D2;\n",
              "      height: 32px;\n",
              "      padding: 0 0 0 0;\n",
              "      width: 32px;\n",
              "    }\n",
              "\n",
              "    .colab-df-convert:hover {\n",
              "      background-color: #E2EBFA;\n",
              "      box-shadow: 0px 1px 2px rgba(60, 64, 67, 0.3), 0px 1px 3px 1px rgba(60, 64, 67, 0.15);\n",
              "      fill: #174EA6;\n",
              "    }\n",
              "\n",
              "    [theme=dark] .colab-df-convert {\n",
              "      background-color: #3B4455;\n",
              "      fill: #D2E3FC;\n",
              "    }\n",
              "\n",
              "    [theme=dark] .colab-df-convert:hover {\n",
              "      background-color: #434B5C;\n",
              "      box-shadow: 0px 1px 3px 1px rgba(0, 0, 0, 0.15);\n",
              "      filter: drop-shadow(0px 1px 2px rgba(0, 0, 0, 0.3));\n",
              "      fill: #FFFFFF;\n",
              "    }\n",
              "  </style>\n",
              "\n",
              "      <script>\n",
              "        const buttonEl =\n",
              "          document.querySelector('#df-ea8eff0c-b7e5-45bc-a0a0-501e6147346d button.colab-df-convert');\n",
              "        buttonEl.style.display =\n",
              "          google.colab.kernel.accessAllowed ? 'block' : 'none';\n",
              "\n",
              "        async function convertToInteractive(key) {\n",
              "          const element = document.querySelector('#df-ea8eff0c-b7e5-45bc-a0a0-501e6147346d');\n",
              "          const dataTable =\n",
              "            await google.colab.kernel.invokeFunction('convertToInteractive',\n",
              "                                                     [key], {});\n",
              "          if (!dataTable) return;\n",
              "\n",
              "          const docLinkHtml = 'Like what you see? Visit the ' +\n",
              "            '<a target=\"_blank\" href=https://colab.research.google.com/notebooks/data_table.ipynb>data table notebook</a>'\n",
              "            + ' to learn more about interactive tables.';\n",
              "          element.innerHTML = '';\n",
              "          dataTable['output_type'] = 'display_data';\n",
              "          await google.colab.output.renderOutput(dataTable, element);\n",
              "          const docLink = document.createElement('div');\n",
              "          docLink.innerHTML = docLinkHtml;\n",
              "          element.appendChild(docLink);\n",
              "        }\n",
              "      </script>\n",
              "    </div>\n",
              "  </div>\n",
              "  "
            ]
          },
          "metadata": {},
          "execution_count": 109
        }
      ]
    },
    {
      "cell_type": "code",
      "metadata": {
        "id": "d21HPJDrHFOk",
        "colab": {
          "base_uri": "https://localhost:8080/",
          "height": 677
        },
        "outputId": "62ce9aff-1fff-4e72-9a49-91013cf454a7"
      },
      "source": [
        "train_df.tail(20)"
      ],
      "execution_count": 110,
      "outputs": [
        {
          "output_type": "execute_result",
          "data": {
            "text/plain": [
              "     PassengerId  Survived  Pclass  \\\n",
              "871          872         1       1   \n",
              "872          873         0       1   \n",
              "873          874         0       3   \n",
              "874          875         1       2   \n",
              "875          876         1       3   \n",
              "876          877         0       3   \n",
              "877          878         0       3   \n",
              "878          879         0       3   \n",
              "879          880         1       1   \n",
              "880          881         1       2   \n",
              "881          882         0       3   \n",
              "882          883         0       3   \n",
              "883          884         0       2   \n",
              "884          885         0       3   \n",
              "885          886         0       3   \n",
              "886          887         0       2   \n",
              "887          888         1       1   \n",
              "888          889         0       3   \n",
              "889          890         1       1   \n",
              "890          891         0       3   \n",
              "\n",
              "                                                 Name     Sex   Age  SibSp  \\\n",
              "871  Beckwith, Mrs. Richard Leonard (Sallie Monypeny)  female  47.0      1   \n",
              "872                          Carlsson, Mr. Frans Olof    male  33.0      0   \n",
              "873                       Vander Cruyssen, Mr. Victor    male  47.0      0   \n",
              "874             Abelson, Mrs. Samuel (Hannah Wizosky)  female  28.0      1   \n",
              "875                  Najib, Miss. Adele Kiamie \"Jane\"  female  15.0      0   \n",
              "876                     Gustafsson, Mr. Alfred Ossian    male  20.0      0   \n",
              "877                              Petroff, Mr. Nedelio    male  19.0      0   \n",
              "878                                Laleff, Mr. Kristo    male   NaN      0   \n",
              "879     Potter, Mrs. Thomas Jr (Lily Alexenia Wilson)  female  56.0      0   \n",
              "880      Shelley, Mrs. William (Imanita Parrish Hall)  female  25.0      0   \n",
              "881                                Markun, Mr. Johann    male  33.0      0   \n",
              "882                      Dahlberg, Miss. Gerda Ulrika  female  22.0      0   \n",
              "883                     Banfield, Mr. Frederick James    male  28.0      0   \n",
              "884                            Sutehall, Mr. Henry Jr    male  25.0      0   \n",
              "885              Rice, Mrs. William (Margaret Norton)  female  39.0      0   \n",
              "886                             Montvila, Rev. Juozas    male  27.0      0   \n",
              "887                      Graham, Miss. Margaret Edith  female  19.0      0   \n",
              "888          Johnston, Miss. Catherine Helen \"Carrie\"  female   NaN      1   \n",
              "889                             Behr, Mr. Karl Howell    male  26.0      0   \n",
              "890                               Dooley, Mr. Patrick    male  32.0      0   \n",
              "\n",
              "     Parch            Ticket     Fare        Cabin Embarked  \n",
              "871      1             11751  52.5542          D35        S  \n",
              "872      0               695   5.0000  B51 B53 B55        S  \n",
              "873      0            345765   9.0000          NaN        S  \n",
              "874      0         P/PP 3381  24.0000          NaN        C  \n",
              "875      0              2667   7.2250          NaN        C  \n",
              "876      0              7534   9.8458          NaN        S  \n",
              "877      0            349212   7.8958          NaN        S  \n",
              "878      0            349217   7.8958          NaN        S  \n",
              "879      1             11767  83.1583          C50        C  \n",
              "880      1            230433  26.0000          NaN        S  \n",
              "881      0            349257   7.8958          NaN        S  \n",
              "882      0              7552  10.5167          NaN        S  \n",
              "883      0  C.A./SOTON 34068  10.5000          NaN        S  \n",
              "884      0   SOTON/OQ 392076   7.0500          NaN        S  \n",
              "885      5            382652  29.1250          NaN        Q  \n",
              "886      0            211536  13.0000          NaN        S  \n",
              "887      0            112053  30.0000          B42        S  \n",
              "888      2        W./C. 6607  23.4500          NaN        S  \n",
              "889      0            111369  30.0000         C148        C  \n",
              "890      0            370376   7.7500          NaN        Q  "
            ],
            "text/html": [
              "\n",
              "  <div id=\"df-4c433552-2f77-40dc-aaca-705f2e178e6b\">\n",
              "    <div class=\"colab-df-container\">\n",
              "      <div>\n",
              "<style scoped>\n",
              "    .dataframe tbody tr th:only-of-type {\n",
              "        vertical-align: middle;\n",
              "    }\n",
              "\n",
              "    .dataframe tbody tr th {\n",
              "        vertical-align: top;\n",
              "    }\n",
              "\n",
              "    .dataframe thead th {\n",
              "        text-align: right;\n",
              "    }\n",
              "</style>\n",
              "<table border=\"1\" class=\"dataframe\">\n",
              "  <thead>\n",
              "    <tr style=\"text-align: right;\">\n",
              "      <th></th>\n",
              "      <th>PassengerId</th>\n",
              "      <th>Survived</th>\n",
              "      <th>Pclass</th>\n",
              "      <th>Name</th>\n",
              "      <th>Sex</th>\n",
              "      <th>Age</th>\n",
              "      <th>SibSp</th>\n",
              "      <th>Parch</th>\n",
              "      <th>Ticket</th>\n",
              "      <th>Fare</th>\n",
              "      <th>Cabin</th>\n",
              "      <th>Embarked</th>\n",
              "    </tr>\n",
              "  </thead>\n",
              "  <tbody>\n",
              "    <tr>\n",
              "      <th>871</th>\n",
              "      <td>872</td>\n",
              "      <td>1</td>\n",
              "      <td>1</td>\n",
              "      <td>Beckwith, Mrs. Richard Leonard (Sallie Monypeny)</td>\n",
              "      <td>female</td>\n",
              "      <td>47.0</td>\n",
              "      <td>1</td>\n",
              "      <td>1</td>\n",
              "      <td>11751</td>\n",
              "      <td>52.5542</td>\n",
              "      <td>D35</td>\n",
              "      <td>S</td>\n",
              "    </tr>\n",
              "    <tr>\n",
              "      <th>872</th>\n",
              "      <td>873</td>\n",
              "      <td>0</td>\n",
              "      <td>1</td>\n",
              "      <td>Carlsson, Mr. Frans Olof</td>\n",
              "      <td>male</td>\n",
              "      <td>33.0</td>\n",
              "      <td>0</td>\n",
              "      <td>0</td>\n",
              "      <td>695</td>\n",
              "      <td>5.0000</td>\n",
              "      <td>B51 B53 B55</td>\n",
              "      <td>S</td>\n",
              "    </tr>\n",
              "    <tr>\n",
              "      <th>873</th>\n",
              "      <td>874</td>\n",
              "      <td>0</td>\n",
              "      <td>3</td>\n",
              "      <td>Vander Cruyssen, Mr. Victor</td>\n",
              "      <td>male</td>\n",
              "      <td>47.0</td>\n",
              "      <td>0</td>\n",
              "      <td>0</td>\n",
              "      <td>345765</td>\n",
              "      <td>9.0000</td>\n",
              "      <td>NaN</td>\n",
              "      <td>S</td>\n",
              "    </tr>\n",
              "    <tr>\n",
              "      <th>874</th>\n",
              "      <td>875</td>\n",
              "      <td>1</td>\n",
              "      <td>2</td>\n",
              "      <td>Abelson, Mrs. Samuel (Hannah Wizosky)</td>\n",
              "      <td>female</td>\n",
              "      <td>28.0</td>\n",
              "      <td>1</td>\n",
              "      <td>0</td>\n",
              "      <td>P/PP 3381</td>\n",
              "      <td>24.0000</td>\n",
              "      <td>NaN</td>\n",
              "      <td>C</td>\n",
              "    </tr>\n",
              "    <tr>\n",
              "      <th>875</th>\n",
              "      <td>876</td>\n",
              "      <td>1</td>\n",
              "      <td>3</td>\n",
              "      <td>Najib, Miss. Adele Kiamie \"Jane\"</td>\n",
              "      <td>female</td>\n",
              "      <td>15.0</td>\n",
              "      <td>0</td>\n",
              "      <td>0</td>\n",
              "      <td>2667</td>\n",
              "      <td>7.2250</td>\n",
              "      <td>NaN</td>\n",
              "      <td>C</td>\n",
              "    </tr>\n",
              "    <tr>\n",
              "      <th>876</th>\n",
              "      <td>877</td>\n",
              "      <td>0</td>\n",
              "      <td>3</td>\n",
              "      <td>Gustafsson, Mr. Alfred Ossian</td>\n",
              "      <td>male</td>\n",
              "      <td>20.0</td>\n",
              "      <td>0</td>\n",
              "      <td>0</td>\n",
              "      <td>7534</td>\n",
              "      <td>9.8458</td>\n",
              "      <td>NaN</td>\n",
              "      <td>S</td>\n",
              "    </tr>\n",
              "    <tr>\n",
              "      <th>877</th>\n",
              "      <td>878</td>\n",
              "      <td>0</td>\n",
              "      <td>3</td>\n",
              "      <td>Petroff, Mr. Nedelio</td>\n",
              "      <td>male</td>\n",
              "      <td>19.0</td>\n",
              "      <td>0</td>\n",
              "      <td>0</td>\n",
              "      <td>349212</td>\n",
              "      <td>7.8958</td>\n",
              "      <td>NaN</td>\n",
              "      <td>S</td>\n",
              "    </tr>\n",
              "    <tr>\n",
              "      <th>878</th>\n",
              "      <td>879</td>\n",
              "      <td>0</td>\n",
              "      <td>3</td>\n",
              "      <td>Laleff, Mr. Kristo</td>\n",
              "      <td>male</td>\n",
              "      <td>NaN</td>\n",
              "      <td>0</td>\n",
              "      <td>0</td>\n",
              "      <td>349217</td>\n",
              "      <td>7.8958</td>\n",
              "      <td>NaN</td>\n",
              "      <td>S</td>\n",
              "    </tr>\n",
              "    <tr>\n",
              "      <th>879</th>\n",
              "      <td>880</td>\n",
              "      <td>1</td>\n",
              "      <td>1</td>\n",
              "      <td>Potter, Mrs. Thomas Jr (Lily Alexenia Wilson)</td>\n",
              "      <td>female</td>\n",
              "      <td>56.0</td>\n",
              "      <td>0</td>\n",
              "      <td>1</td>\n",
              "      <td>11767</td>\n",
              "      <td>83.1583</td>\n",
              "      <td>C50</td>\n",
              "      <td>C</td>\n",
              "    </tr>\n",
              "    <tr>\n",
              "      <th>880</th>\n",
              "      <td>881</td>\n",
              "      <td>1</td>\n",
              "      <td>2</td>\n",
              "      <td>Shelley, Mrs. William (Imanita Parrish Hall)</td>\n",
              "      <td>female</td>\n",
              "      <td>25.0</td>\n",
              "      <td>0</td>\n",
              "      <td>1</td>\n",
              "      <td>230433</td>\n",
              "      <td>26.0000</td>\n",
              "      <td>NaN</td>\n",
              "      <td>S</td>\n",
              "    </tr>\n",
              "    <tr>\n",
              "      <th>881</th>\n",
              "      <td>882</td>\n",
              "      <td>0</td>\n",
              "      <td>3</td>\n",
              "      <td>Markun, Mr. Johann</td>\n",
              "      <td>male</td>\n",
              "      <td>33.0</td>\n",
              "      <td>0</td>\n",
              "      <td>0</td>\n",
              "      <td>349257</td>\n",
              "      <td>7.8958</td>\n",
              "      <td>NaN</td>\n",
              "      <td>S</td>\n",
              "    </tr>\n",
              "    <tr>\n",
              "      <th>882</th>\n",
              "      <td>883</td>\n",
              "      <td>0</td>\n",
              "      <td>3</td>\n",
              "      <td>Dahlberg, Miss. Gerda Ulrika</td>\n",
              "      <td>female</td>\n",
              "      <td>22.0</td>\n",
              "      <td>0</td>\n",
              "      <td>0</td>\n",
              "      <td>7552</td>\n",
              "      <td>10.5167</td>\n",
              "      <td>NaN</td>\n",
              "      <td>S</td>\n",
              "    </tr>\n",
              "    <tr>\n",
              "      <th>883</th>\n",
              "      <td>884</td>\n",
              "      <td>0</td>\n",
              "      <td>2</td>\n",
              "      <td>Banfield, Mr. Frederick James</td>\n",
              "      <td>male</td>\n",
              "      <td>28.0</td>\n",
              "      <td>0</td>\n",
              "      <td>0</td>\n",
              "      <td>C.A./SOTON 34068</td>\n",
              "      <td>10.5000</td>\n",
              "      <td>NaN</td>\n",
              "      <td>S</td>\n",
              "    </tr>\n",
              "    <tr>\n",
              "      <th>884</th>\n",
              "      <td>885</td>\n",
              "      <td>0</td>\n",
              "      <td>3</td>\n",
              "      <td>Sutehall, Mr. Henry Jr</td>\n",
              "      <td>male</td>\n",
              "      <td>25.0</td>\n",
              "      <td>0</td>\n",
              "      <td>0</td>\n",
              "      <td>SOTON/OQ 392076</td>\n",
              "      <td>7.0500</td>\n",
              "      <td>NaN</td>\n",
              "      <td>S</td>\n",
              "    </tr>\n",
              "    <tr>\n",
              "      <th>885</th>\n",
              "      <td>886</td>\n",
              "      <td>0</td>\n",
              "      <td>3</td>\n",
              "      <td>Rice, Mrs. William (Margaret Norton)</td>\n",
              "      <td>female</td>\n",
              "      <td>39.0</td>\n",
              "      <td>0</td>\n",
              "      <td>5</td>\n",
              "      <td>382652</td>\n",
              "      <td>29.1250</td>\n",
              "      <td>NaN</td>\n",
              "      <td>Q</td>\n",
              "    </tr>\n",
              "    <tr>\n",
              "      <th>886</th>\n",
              "      <td>887</td>\n",
              "      <td>0</td>\n",
              "      <td>2</td>\n",
              "      <td>Montvila, Rev. Juozas</td>\n",
              "      <td>male</td>\n",
              "      <td>27.0</td>\n",
              "      <td>0</td>\n",
              "      <td>0</td>\n",
              "      <td>211536</td>\n",
              "      <td>13.0000</td>\n",
              "      <td>NaN</td>\n",
              "      <td>S</td>\n",
              "    </tr>\n",
              "    <tr>\n",
              "      <th>887</th>\n",
              "      <td>888</td>\n",
              "      <td>1</td>\n",
              "      <td>1</td>\n",
              "      <td>Graham, Miss. Margaret Edith</td>\n",
              "      <td>female</td>\n",
              "      <td>19.0</td>\n",
              "      <td>0</td>\n",
              "      <td>0</td>\n",
              "      <td>112053</td>\n",
              "      <td>30.0000</td>\n",
              "      <td>B42</td>\n",
              "      <td>S</td>\n",
              "    </tr>\n",
              "    <tr>\n",
              "      <th>888</th>\n",
              "      <td>889</td>\n",
              "      <td>0</td>\n",
              "      <td>3</td>\n",
              "      <td>Johnston, Miss. Catherine Helen \"Carrie\"</td>\n",
              "      <td>female</td>\n",
              "      <td>NaN</td>\n",
              "      <td>1</td>\n",
              "      <td>2</td>\n",
              "      <td>W./C. 6607</td>\n",
              "      <td>23.4500</td>\n",
              "      <td>NaN</td>\n",
              "      <td>S</td>\n",
              "    </tr>\n",
              "    <tr>\n",
              "      <th>889</th>\n",
              "      <td>890</td>\n",
              "      <td>1</td>\n",
              "      <td>1</td>\n",
              "      <td>Behr, Mr. Karl Howell</td>\n",
              "      <td>male</td>\n",
              "      <td>26.0</td>\n",
              "      <td>0</td>\n",
              "      <td>0</td>\n",
              "      <td>111369</td>\n",
              "      <td>30.0000</td>\n",
              "      <td>C148</td>\n",
              "      <td>C</td>\n",
              "    </tr>\n",
              "    <tr>\n",
              "      <th>890</th>\n",
              "      <td>891</td>\n",
              "      <td>0</td>\n",
              "      <td>3</td>\n",
              "      <td>Dooley, Mr. Patrick</td>\n",
              "      <td>male</td>\n",
              "      <td>32.0</td>\n",
              "      <td>0</td>\n",
              "      <td>0</td>\n",
              "      <td>370376</td>\n",
              "      <td>7.7500</td>\n",
              "      <td>NaN</td>\n",
              "      <td>Q</td>\n",
              "    </tr>\n",
              "  </tbody>\n",
              "</table>\n",
              "</div>\n",
              "      <button class=\"colab-df-convert\" onclick=\"convertToInteractive('df-4c433552-2f77-40dc-aaca-705f2e178e6b')\"\n",
              "              title=\"Convert this dataframe to an interactive table.\"\n",
              "              style=\"display:none;\">\n",
              "        \n",
              "  <svg xmlns=\"http://www.w3.org/2000/svg\" height=\"24px\"viewBox=\"0 0 24 24\"\n",
              "       width=\"24px\">\n",
              "    <path d=\"M0 0h24v24H0V0z\" fill=\"none\"/>\n",
              "    <path d=\"M18.56 5.44l.94 2.06.94-2.06 2.06-.94-2.06-.94-.94-2.06-.94 2.06-2.06.94zm-11 1L8.5 8.5l.94-2.06 2.06-.94-2.06-.94L8.5 2.5l-.94 2.06-2.06.94zm10 10l.94 2.06.94-2.06 2.06-.94-2.06-.94-.94-2.06-.94 2.06-2.06.94z\"/><path d=\"M17.41 7.96l-1.37-1.37c-.4-.4-.92-.59-1.43-.59-.52 0-1.04.2-1.43.59L10.3 9.45l-7.72 7.72c-.78.78-.78 2.05 0 2.83L4 21.41c.39.39.9.59 1.41.59.51 0 1.02-.2 1.41-.59l7.78-7.78 2.81-2.81c.8-.78.8-2.07 0-2.86zM5.41 20L4 18.59l7.72-7.72 1.47 1.35L5.41 20z\"/>\n",
              "  </svg>\n",
              "      </button>\n",
              "      \n",
              "  <style>\n",
              "    .colab-df-container {\n",
              "      display:flex;\n",
              "      flex-wrap:wrap;\n",
              "      gap: 12px;\n",
              "    }\n",
              "\n",
              "    .colab-df-convert {\n",
              "      background-color: #E8F0FE;\n",
              "      border: none;\n",
              "      border-radius: 50%;\n",
              "      cursor: pointer;\n",
              "      display: none;\n",
              "      fill: #1967D2;\n",
              "      height: 32px;\n",
              "      padding: 0 0 0 0;\n",
              "      width: 32px;\n",
              "    }\n",
              "\n",
              "    .colab-df-convert:hover {\n",
              "      background-color: #E2EBFA;\n",
              "      box-shadow: 0px 1px 2px rgba(60, 64, 67, 0.3), 0px 1px 3px 1px rgba(60, 64, 67, 0.15);\n",
              "      fill: #174EA6;\n",
              "    }\n",
              "\n",
              "    [theme=dark] .colab-df-convert {\n",
              "      background-color: #3B4455;\n",
              "      fill: #D2E3FC;\n",
              "    }\n",
              "\n",
              "    [theme=dark] .colab-df-convert:hover {\n",
              "      background-color: #434B5C;\n",
              "      box-shadow: 0px 1px 3px 1px rgba(0, 0, 0, 0.15);\n",
              "      filter: drop-shadow(0px 1px 2px rgba(0, 0, 0, 0.3));\n",
              "      fill: #FFFFFF;\n",
              "    }\n",
              "  </style>\n",
              "\n",
              "      <script>\n",
              "        const buttonEl =\n",
              "          document.querySelector('#df-4c433552-2f77-40dc-aaca-705f2e178e6b button.colab-df-convert');\n",
              "        buttonEl.style.display =\n",
              "          google.colab.kernel.accessAllowed ? 'block' : 'none';\n",
              "\n",
              "        async function convertToInteractive(key) {\n",
              "          const element = document.querySelector('#df-4c433552-2f77-40dc-aaca-705f2e178e6b');\n",
              "          const dataTable =\n",
              "            await google.colab.kernel.invokeFunction('convertToInteractive',\n",
              "                                                     [key], {});\n",
              "          if (!dataTable) return;\n",
              "\n",
              "          const docLinkHtml = 'Like what you see? Visit the ' +\n",
              "            '<a target=\"_blank\" href=https://colab.research.google.com/notebooks/data_table.ipynb>data table notebook</a>'\n",
              "            + ' to learn more about interactive tables.';\n",
              "          element.innerHTML = '';\n",
              "          dataTable['output_type'] = 'display_data';\n",
              "          await google.colab.output.renderOutput(dataTable, element);\n",
              "          const docLink = document.createElement('div');\n",
              "          docLink.innerHTML = docLinkHtml;\n",
              "          element.appendChild(docLink);\n",
              "        }\n",
              "      </script>\n",
              "    </div>\n",
              "  </div>\n",
              "  "
            ]
          },
          "metadata": {},
          "execution_count": 110
        }
      ]
    },
    {
      "cell_type": "markdown",
      "metadata": {
        "id": "eAe9H4ub-9TB"
      },
      "source": [
        "## 3. Exploratory Data Analysis\n",
        "Exploratory data analysis is a very important part of ML as it helps you understand the data you are dealing with <br>\n",
        "<br>\n",
        "(we will be working on the train dataframe in this task)"
      ]
    },
    {
      "cell_type": "markdown",
      "metadata": {
        "id": "7n5NzvIOAH1G"
      },
      "source": [
        "### 3.a. overview of the dataset"
      ]
    },
    {
      "cell_type": "markdown",
      "metadata": {
        "id": "dIl7EiGEBjPL"
      },
      "source": [
        " - write code to list the columns in your dataframe (each column on new line as visibility is important)"
      ]
    },
    {
      "cell_type": "code",
      "metadata": {
        "id": "jgGpmmk4BNpf",
        "colab": {
          "base_uri": "https://localhost:8080/"
        },
        "outputId": "9c3b5ba2-f45c-4d92-fab4-3ad30c086549"
      },
      "source": [
        "list(train_df.columns)\n"
      ],
      "execution_count": 111,
      "outputs": [
        {
          "output_type": "execute_result",
          "data": {
            "text/plain": [
              "['PassengerId',\n",
              " 'Survived',\n",
              " 'Pclass',\n",
              " 'Name',\n",
              " 'Sex',\n",
              " 'Age',\n",
              " 'SibSp',\n",
              " 'Parch',\n",
              " 'Ticket',\n",
              " 'Fare',\n",
              " 'Cabin',\n",
              " 'Embarked']"
            ]
          },
          "metadata": {},
          "execution_count": 111
        }
      ]
    },
    {
      "cell_type": "markdown",
      "metadata": {
        "id": "BbtlcScEBkwG"
      },
      "source": [
        " - write a function that returns the number of rows and columns in the dataset "
      ]
    },
    {
      "cell_type": "code",
      "metadata": {
        "id": "huYZDIdW87BM",
        "colab": {
          "base_uri": "https://localhost:8080/"
        },
        "outputId": "05457e9d-3156-44d8-a8eb-bcc599d86a52"
      },
      "source": [
        "print(train_df.shape)\n"
      ],
      "execution_count": 112,
      "outputs": [
        {
          "output_type": "stream",
          "name": "stdout",
          "text": [
            "(891, 12)\n"
          ]
        }
      ]
    },
    {
      "cell_type": "markdown",
      "metadata": {
        "id": "tFWvBxGvCR5M"
      },
      "source": [
        " - use the info() method of pandas dataframe to print the info related to the dataframe"
      ]
    },
    {
      "cell_type": "code",
      "metadata": {
        "id": "oDGygTjuAhtf",
        "colab": {
          "base_uri": "https://localhost:8080/"
        },
        "outputId": "839ec2ce-19ce-4630-c9f6-d351dff06afc"
      },
      "source": [
        "print(train_df.info())\n"
      ],
      "execution_count": 113,
      "outputs": [
        {
          "output_type": "stream",
          "name": "stdout",
          "text": [
            "<class 'pandas.core.frame.DataFrame'>\n",
            "RangeIndex: 891 entries, 0 to 890\n",
            "Data columns (total 12 columns):\n",
            " #   Column       Non-Null Count  Dtype  \n",
            "---  ------       --------------  -----  \n",
            " 0   PassengerId  891 non-null    int64  \n",
            " 1   Survived     891 non-null    int64  \n",
            " 2   Pclass       891 non-null    int64  \n",
            " 3   Name         891 non-null    object \n",
            " 4   Sex          891 non-null    object \n",
            " 5   Age          714 non-null    float64\n",
            " 6   SibSp        891 non-null    int64  \n",
            " 7   Parch        891 non-null    int64  \n",
            " 8   Ticket       891 non-null    object \n",
            " 9   Fare         891 non-null    float64\n",
            " 10  Cabin        204 non-null    object \n",
            " 11  Embarked     889 non-null    object \n",
            "dtypes: float64(2), int64(5), object(5)\n",
            "memory usage: 83.7+ KB\n",
            "None\n"
          ]
        }
      ]
    },
    {
      "cell_type": "markdown",
      "metadata": {
        "id": "JtEy2fQuCfic"
      },
      "source": [
        " - use the describe() method of pandas dataframe to print the statistical description of the dataset"
      ]
    },
    {
      "cell_type": "code",
      "metadata": {
        "id": "HmAzuSpcCfAC",
        "colab": {
          "base_uri": "https://localhost:8080/"
        },
        "outputId": "a3dd4369-640b-4e81-e48c-7f3f3b5fa01f"
      },
      "source": [
        "print(train_df.describe())\n"
      ],
      "execution_count": 114,
      "outputs": [
        {
          "output_type": "stream",
          "name": "stdout",
          "text": [
            "       PassengerId    Survived      Pclass         Age       SibSp  \\\n",
            "count   891.000000  891.000000  891.000000  714.000000  891.000000   \n",
            "mean    446.000000    0.383838    2.308642   29.699118    0.523008   \n",
            "std     257.353842    0.486592    0.836071   14.526497    1.102743   \n",
            "min       1.000000    0.000000    1.000000    0.420000    0.000000   \n",
            "25%     223.500000    0.000000    2.000000   20.125000    0.000000   \n",
            "50%     446.000000    0.000000    3.000000   28.000000    0.000000   \n",
            "75%     668.500000    1.000000    3.000000   38.000000    1.000000   \n",
            "max     891.000000    1.000000    3.000000   80.000000    8.000000   \n",
            "\n",
            "            Parch        Fare  \n",
            "count  891.000000  891.000000  \n",
            "mean     0.381594   32.204208  \n",
            "std      0.806057   49.693429  \n",
            "min      0.000000    0.000000  \n",
            "25%      0.000000    7.910400  \n",
            "50%      0.000000   14.454200  \n",
            "75%      0.000000   31.000000  \n",
            "max      6.000000  512.329200  \n"
          ]
        }
      ]
    },
    {
      "cell_type": "markdown",
      "metadata": {
        "id": "A9e7GcsJC_ww"
      },
      "source": [
        " - Find all columns that have unique values. (example : the Gender column has 2 unique values Male and Female) <br>\n",
        "\n",
        " - if the columns have finite unique values, then add them in a dictionary of lists and print it <br>\n",
        "<br>\n",
        "dictionary should look like : <br>\n",
        "<t>{<br>&nbsp;&nbsp; \"Gender\" : [\"Male\", \"Female\"],<br>&nbsp;&nbsp; \"Col2\" : [\"unique1\", \"unique2\"],<br>&nbsp;&nbsp;&nbsp;&nbsp;.<br>&nbsp;&nbsp;&nbsp;&nbsp;.<br>&nbsp;&nbsp;&nbsp;&nbsp;.<br>}"
      ]
    },
    {
      "cell_type": "code",
      "metadata": {
        "id": "SvWOT_pKDbdu",
        "colab": {
          "base_uri": "https://localhost:8080/"
        },
        "outputId": "3af7f7bd-cb96-4ac8-df50-ce254ff037f8"
      },
      "source": [
        "for col in train_df:\n",
        "  print(train_df[col].unique)\n"
      ],
      "execution_count": 115,
      "outputs": [
        {
          "output_type": "stream",
          "name": "stdout",
          "text": [
            "<bound method Series.unique of 0        1\n",
            "1        2\n",
            "2        3\n",
            "3        4\n",
            "4        5\n",
            "      ... \n",
            "886    887\n",
            "887    888\n",
            "888    889\n",
            "889    890\n",
            "890    891\n",
            "Name: PassengerId, Length: 891, dtype: int64>\n",
            "<bound method Series.unique of 0      0\n",
            "1      1\n",
            "2      1\n",
            "3      1\n",
            "4      0\n",
            "      ..\n",
            "886    0\n",
            "887    1\n",
            "888    0\n",
            "889    1\n",
            "890    0\n",
            "Name: Survived, Length: 891, dtype: int64>\n",
            "<bound method Series.unique of 0      3\n",
            "1      1\n",
            "2      3\n",
            "3      1\n",
            "4      3\n",
            "      ..\n",
            "886    2\n",
            "887    1\n",
            "888    3\n",
            "889    1\n",
            "890    3\n",
            "Name: Pclass, Length: 891, dtype: int64>\n",
            "<bound method Series.unique of 0                                Braund, Mr. Owen Harris\n",
            "1      Cumings, Mrs. John Bradley (Florence Briggs Th...\n",
            "2                                 Heikkinen, Miss. Laina\n",
            "3           Futrelle, Mrs. Jacques Heath (Lily May Peel)\n",
            "4                               Allen, Mr. William Henry\n",
            "                             ...                        \n",
            "886                                Montvila, Rev. Juozas\n",
            "887                         Graham, Miss. Margaret Edith\n",
            "888             Johnston, Miss. Catherine Helen \"Carrie\"\n",
            "889                                Behr, Mr. Karl Howell\n",
            "890                                  Dooley, Mr. Patrick\n",
            "Name: Name, Length: 891, dtype: object>\n",
            "<bound method Series.unique of 0        male\n",
            "1      female\n",
            "2      female\n",
            "3      female\n",
            "4        male\n",
            "        ...  \n",
            "886      male\n",
            "887    female\n",
            "888    female\n",
            "889      male\n",
            "890      male\n",
            "Name: Sex, Length: 891, dtype: object>\n",
            "<bound method Series.unique of 0      22.0\n",
            "1      38.0\n",
            "2      26.0\n",
            "3      35.0\n",
            "4      35.0\n",
            "       ... \n",
            "886    27.0\n",
            "887    19.0\n",
            "888     NaN\n",
            "889    26.0\n",
            "890    32.0\n",
            "Name: Age, Length: 891, dtype: float64>\n",
            "<bound method Series.unique of 0      1\n",
            "1      1\n",
            "2      0\n",
            "3      1\n",
            "4      0\n",
            "      ..\n",
            "886    0\n",
            "887    0\n",
            "888    1\n",
            "889    0\n",
            "890    0\n",
            "Name: SibSp, Length: 891, dtype: int64>\n",
            "<bound method Series.unique of 0      0\n",
            "1      0\n",
            "2      0\n",
            "3      0\n",
            "4      0\n",
            "      ..\n",
            "886    0\n",
            "887    0\n",
            "888    2\n",
            "889    0\n",
            "890    0\n",
            "Name: Parch, Length: 891, dtype: int64>\n",
            "<bound method Series.unique of 0             A/5 21171\n",
            "1              PC 17599\n",
            "2      STON/O2. 3101282\n",
            "3                113803\n",
            "4                373450\n",
            "             ...       \n",
            "886              211536\n",
            "887              112053\n",
            "888          W./C. 6607\n",
            "889              111369\n",
            "890              370376\n",
            "Name: Ticket, Length: 891, dtype: object>\n",
            "<bound method Series.unique of 0       7.2500\n",
            "1      71.2833\n",
            "2       7.9250\n",
            "3      53.1000\n",
            "4       8.0500\n",
            "        ...   \n",
            "886    13.0000\n",
            "887    30.0000\n",
            "888    23.4500\n",
            "889    30.0000\n",
            "890     7.7500\n",
            "Name: Fare, Length: 891, dtype: float64>\n",
            "<bound method Series.unique of 0       NaN\n",
            "1       C85\n",
            "2       NaN\n",
            "3      C123\n",
            "4       NaN\n",
            "       ... \n",
            "886     NaN\n",
            "887     B42\n",
            "888     NaN\n",
            "889    C148\n",
            "890     NaN\n",
            "Name: Cabin, Length: 891, dtype: object>\n",
            "<bound method Series.unique of 0      S\n",
            "1      C\n",
            "2      S\n",
            "3      S\n",
            "4      S\n",
            "      ..\n",
            "886    S\n",
            "887    S\n",
            "888    S\n",
            "889    C\n",
            "890    Q\n",
            "Name: Embarked, Length: 891, dtype: object>\n"
          ]
        }
      ]
    },
    {
      "cell_type": "markdown",
      "metadata": {
        "id": "V1OdlEqXHzMC"
      },
      "source": [
        "### 3.b. Visualizing hidden Details"
      ]
    },
    {
      "cell_type": "markdown",
      "metadata": {
        "id": "De37jtciIY7F"
      },
      "source": [
        "##### Aim is to find relationship between Title and Survival rate\n",
        "- print the <b>name</b> column of the data<br>\n",
        "- notice that the word after the first comma encapsulates the title of the person (Mr., Mrs, etc)\n",
        "- extract the title using regular expression (help given below in the code)\n",
        "- store the title in a new column in the dataframe. Name the column : <b>Title</b>"
      ]
    },
    {
      "cell_type": "code",
      "metadata": {
        "id": "X62p2RoZIp6U"
      },
      "source": [
        "#regex example\n",
        "import re\n",
        "titlelist=[]\n",
        "for name in train_df.Name :\n",
        "  title_search = re.search('(\\w+)\\.', name) #the first argument is a pattern that we are looking for\n",
        "  #print(\"result:\", title_search) #this is the result we get after looking for the pattern\n",
        "  if title_search:\n",
        "    title = title_search.group(1) #extracting the pattern found by regular expression (title here)\n",
        "    titlelist.append(title)\n",
        "\n",
        "train_df[\"Title\"] = titlelist"
      ],
      "execution_count": 116,
      "outputs": []
    },
    {
      "cell_type": "markdown",
      "metadata": {
        "id": "xQBmJI2eM5KT"
      },
      "source": [
        "- write code to get unique values from the title column\n",
        "- use the unique titles to find the number of people who survived (1) and number of people who did not (0) for each title. <b>num_survived/total</b> will give the survival rate for that title\n",
        "- make a new dataframe called <b>SR_df</b> and add the survival rates corresponding to titles in it<br><br>\n",
        "you may write a function for the above.<br><br>\n",
        "expected output : <br>\n",
        "Mr &nbsp;&nbsp; 0.679392<br>\n",
        "Capt &nbsp;&nbsp; 0.1245<br>\n",
        "&nbsp;&nbsp;.<br>\n",
        "&nbsp;&nbsp;.<br>\n",
        "&nbsp;&nbsp;.<br>\n"
      ]
    },
    {
      "cell_type": "code",
      "metadata": {
        "id": "5ZMsfu5HKYbU",
        "colab": {
          "base_uri": "https://localhost:8080/"
        },
        "outputId": "9b98de60-48c4-4d2b-e95c-b0e467dc4084"
      },
      "source": [
        "#print(titlelist)\n",
        "tl_unique = list(set(titlelist))\n",
        "#print(tl_unique)\n",
        "\n",
        "def find(data, mask):\n",
        "  return data.index[mask].tolist()\n",
        "\n",
        "survived_indices = []\n",
        "survived_values = []\n",
        "\n",
        "def average_survival_by_title(title_kind):\n",
        "  global survived_indices\n",
        "  for i in train_df.index:\n",
        "    if(train_df[\"Title\"][i] == title_kind):\n",
        "      if(train_df[\"Survived\"][i] == 1):\n",
        "        survived_indices.append(i) \n",
        "\n",
        "  total = len(train_df.Name)\n",
        "  length = len(survived_indices)\n",
        "  average = length / float(total)\n",
        "  survived_values.append(float(average))\n",
        "  survived_indices = []\n",
        "  return average\n",
        "\n",
        "for titley in tl_unique:\n",
        "  print(titley + \" \" + str(average_survival_by_title(titley)))\n",
        "\n"
      ],
      "execution_count": 117,
      "outputs": [
        {
          "output_type": "stream",
          "name": "stdout",
          "text": [
            "Sir 0.001122334455667789\n",
            "Mme 0.001122334455667789\n",
            "Capt 0.0\n",
            "Major 0.001122334455667789\n",
            "Col 0.001122334455667789\n",
            "Lady 0.001122334455667789\n",
            "Master 0.025813692480359147\n",
            "Don 0.0\n",
            "Rev 0.0\n",
            "Miss 0.1425364758698092\n",
            "Dr 0.003367003367003367\n",
            "Ms 0.001122334455667789\n",
            "Mrs 0.1111111111111111\n",
            "Mr 0.09090909090909091\n",
            "Mlle 0.002244668911335578\n",
            "Countess 0.001122334455667789\n",
            "Jonkheer 0.0\n"
          ]
        }
      ]
    },
    {
      "cell_type": "markdown",
      "metadata": {
        "id": "Olnh97qqO-tZ"
      },
      "source": [
        "- use SR_df to plot a bar graph for survival rate vs Title"
      ]
    },
    {
      "cell_type": "code",
      "metadata": {
        "id": "QYmrVku9MPdT",
        "colab": {
          "base_uri": "https://localhost:8080/",
          "height": 265
        },
        "outputId": "9bab59de-bce7-4f6d-dcf1-62c5f4aacbc2"
      },
      "source": [
        "#write code here\n",
        "plt.plot(tl_unique, survived_values)\n",
        "plt.show()"
      ],
      "execution_count": 118,
      "outputs": [
        {
          "output_type": "display_data",
          "data": {
            "text/plain": [
              "<Figure size 432x288 with 1 Axes>"
            ],
            "image/png": "[encoded data removed]"
          },
          "metadata": {
            "needs_background": "light"
          }
        }
      ]
    },
    {
      "cell_type": "markdown",
      "metadata": {
        "id": "xrIVW_mHQPJX"
      },
      "source": [
        "This brings us to the end of EDA. <br>\n",
        "You may feel free to do more exploratry analysis.<br>\n",
        "The aim of this notebook is not to point out every small detail but to give you an overview and guide you"
      ]
    },
    {
      "cell_type": "markdown",
      "metadata": {
        "id": "2tImb-hXsXmI"
      },
      "source": [
        "## 4. Data Visualization"
      ]
    },
    {
      "cell_type": "markdown",
      "metadata": {
        "id": "ah1dARlJsddI"
      },
      "source": [
        "- Make a pie chart to show the number of people who survived and number of people who did not\n",
        "- Make a pie chart to show the number of <b>Males</b> who survived and number of people who did not\n",
        "- Make a pie chart to show the number of <b>Females</b> who survived and number of people who did not\n",
        "<br><br>\n",
        "Note that all three charts must be visible in a single row (look into subplots)"
      ]
    },
    {
      "cell_type": "code",
      "metadata": {
        "id": "gaZyWEN5sXP6",
        "colab": {
          "base_uri": "https://localhost:8080/",
          "height": 287
        },
        "outputId": "2071059f-da34-4474-baae-f2c066a0d04f"
      },
      "source": [
        "surv_male = []\n",
        "surv_fe = []\n",
        "\n",
        "for i in train_df.index:\n",
        "  if (train_df[\"Sex\"][i] == \"male\") & (train_df[\"Survived\"][i] == 1):\n",
        "    surv_male.append(i)\n",
        "  if (train_df[\"Sex\"][i] == \"female\") & (train_df[\"Survived\"][i] == 1):\n",
        "    surv_fe.append(i)\n",
        "\n",
        "arg_zero = [len(surv_male) + len(surv_fe), len(train_df[\"Name\"])]\n",
        "arg_one = [len(surv_male), len(train_df[\"Name\"])]\n",
        "arg_two = [len(surv_fe), len(train_df[\"Name\"])]\n",
        "\n",
        "fig, (ax0, ax1, ax2) = plt.subplots(1, 3)\n",
        "fig.suptitle('Horizontally stacked subplots')\n",
        "ax0.pie(arg_zero)\n",
        "ax1.pie(arg_one)\n",
        "ax2.pie(arg_two)"
      ],
      "execution_count": 119,
      "outputs": [
        {
          "output_type": "execute_result",
          "data": {
            "text/plain": [
              "([<matplotlib.patches.Wedge at 0x7fac8ec528b0>,\n",
              "  <matplotlib.patches.Wedge at 0x7fac8ec52d60>],\n",
              " [Text(0.8748676172858144, 0.6667883114037331, ''),\n",
              "  Text(-0.8748675860712, -0.6667883523592413, '')])"
            ]
          },
          "metadata": {},
          "execution_count": 119
        },
        {
          "output_type": "display_data",
          "data": {
            "text/plain": [
              "<Figure size 432x288 with 3 Axes>"
            ],
            "image/png": "[encoded data removed]"
          },
          "metadata": {}
        }
      ]
    },
    {
      "cell_type": "markdown",
      "metadata": {
        "id": "uYSmxfqEsjGo"
      },
      "source": [
        "- Find if money affected survival rate (fare and Pclass) \n",
        " - Make a bar graph showing Pclass vs survival rate\n",
        " - Make a KDE plot (use the sns library) and plot Fare based on the Survival (google away for this one)"
      ]
    },
    {
      "cell_type": "code",
      "metadata": {
        "id": "l3YP8H18si4G",
        "colab": {
          "base_uri": "https://localhost:8080/",
          "height": 265
        },
        "outputId": "ddc93ece-9f5e-4ae7-b6e2-f789f1b22894"
      },
      "source": [
        "classes = [\"1\", \"2\", \"3\"]\n",
        "\n",
        "classes_surv = [0, 0, 0]\n",
        "\n",
        "classes_surv_temp = 0\n",
        "\n",
        "def surv_by_class(abs):\n",
        "  global classes_surv_temp\n",
        "  for i in train_df.index:\n",
        "    if (train_df['Pclass'][i] == abs + 1) & (train_df[\"Survived\"][i] == 1):\n",
        "      classes_surv_temp = classes_surv_temp + 1\n",
        "  classes_surv[abs] = classes_surv_temp\n",
        "  classes_surv_temp = 0\n",
        "\n",
        "for i in range(3):\n",
        "  surv_by_class(i)\n",
        "\n",
        "plt.bar(classes, classes_surv)\n",
        "plt.show()"
      ],
      "execution_count": 120,
      "outputs": [
        {
          "output_type": "display_data",
          "data": {
            "text/plain": [
              "<Figure size 432x288 with 1 Axes>"
            ],
            "image/png": "[encoded data removed]"
          },
          "metadata": {
            "needs_background": "light"
          }
        }
      ]
    },
    {
      "cell_type": "code",
      "metadata": {
        "id": "ekU_aa0Wsn6T"
      },
      "source": [
        "#write code for kde plot & fare\n"
      ],
      "execution_count": 121,
      "outputs": []
    },
    {
      "cell_type": "markdown",
      "metadata": {
        "id": "NzSBvjqdRfiM"
      },
      "source": [
        "## 5. Preprocessing\n",
        "preprocessing is a very important step before we step into modelling"
      ]
    },
    {
      "cell_type": "markdown",
      "metadata": {
        "id": "1_HLgWAZTD-2"
      },
      "source": [
        " - when we added the Title column in the datadframe, we did preprocessing on the existing data to extract relevant information. As we also tried to explore and understand the data using survival rate, we saw it under EDA."
      ]
    },
    {
      "cell_type": "markdown",
      "metadata": {
        "id": "V-eJsxXrTuBJ"
      },
      "source": [
        "### 5.a. Removing unnecessary columns"
      ]
    },
    {
      "cell_type": "markdown",
      "metadata": {
        "id": "ij1QOguUT7nO"
      },
      "source": [
        " - The columns PassengerId and Ticket play no logical role in being related to the survival of a passenger. Hence we will remove them.\n",
        " - We will also remove the Name column as we have done <b>feature extraction</b> and obtained titles instead. (test set might have extra titles which are not in the train set. Think about how we would consider them. This however doesn't affect task 1's objective)(DOUBT)"
      ]
    },
    {
      "cell_type": "code",
      "metadata": {
        "id": "lpLKo4YgMSKA"
      },
      "source": [
        "#write code to remove unnecessary columns from the dataframe here\n",
        "train_df = train_df.drop(columns=['PassengerId', 'Ticket', 'Name'])"
      ],
      "execution_count": 122,
      "outputs": []
    },
    {
      "cell_type": "markdown",
      "metadata": {
        "id": "63jou6PJaoqp"
      },
      "source": [
        "### 5.b. Nan analysis"
      ]
    },
    {
      "cell_type": "markdown",
      "metadata": {
        "id": "qh6_TT42ay-x"
      },
      "source": [
        " - write code to find the percentage of Nans in each column and visualize it in a tabular format"
      ]
    },
    {
      "cell_type": "code",
      "metadata": {
        "id": "F0V-qmTDUMAx",
        "colab": {
          "base_uri": "https://localhost:8080/"
        },
        "outputId": "ad641f8e-9ee5-417b-b6ce-e49b9bc7dcf8"
      },
      "source": [
        "#write code here\n",
        "null_counts = train_df.isnull().mean()\n",
        "null_counts = pd.DataFrame(null_counts, columns=['Percentage of Nans'])\n",
        "print(null_counts)\n",
        "     \n"
      ],
      "execution_count": 123,
      "outputs": [
        {
          "output_type": "stream",
          "name": "stdout",
          "text": [
            "          Percentage of Nans\n",
            "Survived            0.000000\n",
            "Pclass              0.000000\n",
            "Sex                 0.000000\n",
            "Age                 0.198653\n",
            "SibSp               0.000000\n",
            "Parch               0.000000\n",
            "Fare                0.000000\n",
            "Cabin               0.771044\n",
            "Embarked            0.002245\n",
            "Title               0.000000\n"
          ]
        }
      ]
    },
    {
      "cell_type": "markdown",
      "metadata": {
        "id": "2mqclVHla_ey"
      },
      "source": [
        " - remove any column having more than 50% Nans as they would be of no use"
      ]
    },
    {
      "cell_type": "code",
      "metadata": {
        "id": "wN6LpxsKa-Zi"
      },
      "source": [
        "#write code here\n",
        "null_counts = train_df.isnull().mean()\n",
        "train_df = train_df.loc[:, null_counts < 0.5]\n"
      ],
      "execution_count": 124,
      "outputs": []
    },
    {
      "cell_type": "markdown",
      "metadata": {
        "id": "YfPIbLBkbU8C"
      },
      "source": [
        " - Fill Nans in the Embark column with the statistical mode\n",
        " - Fill Nans in the Age column with it's statistical mean"
      ]
    },
    {
      "cell_type": "code",
      "metadata": {
        "id": "ht5Uxpb6a9SA"
      },
      "source": [
        "#write code here\n",
        "\n",
        "mode = train_df['Embarked'].mode()[0]\n",
        "train_df['Embarked'] = train_df['Embarked'].fillna(mode)  \n",
        "\n",
        "mean = train_df['Age'].mean()\n",
        "train_df['Age'] = train_df['Age'].fillna(mean)"
      ],
      "execution_count": 125,
      "outputs": []
    },
    {
      "cell_type": "markdown",
      "metadata": {
        "id": "ldZ-7Knyc7r1"
      },
      "source": [
        " - show the new Nan percentage vs column name table after filling and removing to make sure there are no Nans"
      ]
    },
    {
      "cell_type": "code",
      "metadata": {
        "id": "qalNu0Gvc6ih",
        "colab": {
          "base_uri": "https://localhost:8080/"
        },
        "outputId": "c352333a-0160-4d61-88da-62c97c6a7740"
      },
      "source": [
        "#write code here\n",
        "null_counts = train_df.isnull().mean()\n",
        "null_counts = pd.DataFrame(null_counts, columns=['Percentage of Nans'])\n",
        "print(null_counts)"
      ],
      "execution_count": 126,
      "outputs": [
        {
          "output_type": "stream",
          "name": "stdout",
          "text": [
            "          Percentage of Nans\n",
            "Survived                 0.0\n",
            "Pclass                   0.0\n",
            "Sex                      0.0\n",
            "Age                      0.0\n",
            "SibSp                    0.0\n",
            "Parch                    0.0\n",
            "Fare                     0.0\n",
            "Embarked                 0.0\n",
            "Title                    0.0\n"
          ]
        }
      ]
    },
    {
      "cell_type": "markdown",
      "metadata": {
        "id": "EQKtPBSSgUpN"
      },
      "source": [
        "### 5.c. Adding features to the dataset"
      ]
    },
    {
      "cell_type": "markdown",
      "metadata": {
        "id": "daJuxRs4gcH9"
      },
      "source": [
        " - Read the kaggle link (titanic dataset) provided above and see what the two columns SibSP and Parch signify\n",
        " - Using that create a new column called <B>Family_members</b>\n",
        " - Fill it with the sum of SibSP and Parch"
      ]
    },
    {
      "cell_type": "code",
      "source": [
        "train_df.head(1000)"
      ],
      "metadata": {
        "colab": {
          "base_uri": "https://localhost:8080/",
          "height": 424
        },
        "id": "TzKOKknMRbUD",
        "outputId": "b22459a2-40a6-4051-967e-bf7c131fc806"
      },
      "execution_count": 127,
      "outputs": [
        {
          "output_type": "execute_result",
          "data": {
            "text/plain": [
              "     Survived  Pclass     Sex        Age  SibSp  Parch     Fare Embarked Title\n",
              "0           0       3    male  22.000000      1      0   7.2500        S    Mr\n",
              "1           1       1  female  38.000000      1      0  71.2833        C   Mrs\n",
              "2           1       3  female  26.000000      0      0   7.9250        S  Miss\n",
              "3           1       1  female  35.000000      1      0  53.1000        S   Mrs\n",
              "4           0       3    male  35.000000      0      0   8.0500        S    Mr\n",
              "..        ...     ...     ...        ...    ...    ...      ...      ...   ...\n",
              "886         0       2    male  27.000000      0      0  13.0000        S   Rev\n",
              "887         1       1  female  19.000000      0      0  30.0000        S  Miss\n",
              "888         0       3  female  29.699118      1      2  23.4500        S  Miss\n",
              "889         1       1    male  26.000000      0      0  30.0000        C    Mr\n",
              "890         0       3    male  32.000000      0      0   7.7500        Q    Mr\n",
              "\n",
              "[891 rows x 9 columns]"
            ],
            "text/html": [
              "\n",
              "  <div id=\"df-b85c45fe-59e3-428c-a35c-ec0c3ddae169\">\n",
              "    <div class=\"colab-df-container\">\n",
              "      <div>\n",
              "<style scoped>\n",
              "    .dataframe tbody tr th:only-of-type {\n",
              "        vertical-align: middle;\n",
              "    }\n",
              "\n",
              "    .dataframe tbody tr th {\n",
              "        vertical-align: top;\n",
              "    }\n",
              "\n",
              "    .dataframe thead th {\n",
              "        text-align: right;\n",
              "    }\n",
              "</style>\n",
              "<table border=\"1\" class=\"dataframe\">\n",
              "  <thead>\n",
              "    <tr style=\"text-align: right;\">\n",
              "      <th></th>\n",
              "      <th>Survived</th>\n",
              "      <th>Pclass</th>\n",
              "      <th>Sex</th>\n",
              "      <th>Age</th>\n",
              "      <th>SibSp</th>\n",
              "      <th>Parch</th>\n",
              "      <th>Fare</th>\n",
              "      <th>Embarked</th>\n",
              "      <th>Title</th>\n",
              "    </tr>\n",
              "  </thead>\n",
              "  <tbody>\n",
              "    <tr>\n",
              "      <th>0</th>\n",
              "      <td>0</td>\n",
              "      <td>3</td>\n",
              "      <td>male</td>\n",
              "      <td>22.000000</td>\n",
              "      <td>1</td>\n",
              "      <td>0</td>\n",
              "      <td>7.2500</td>\n",
              "      <td>S</td>\n",
              "      <td>Mr</td>\n",
              "    </tr>\n",
              "    <tr>\n",
              "      <th>1</th>\n",
              "      <td>1</td>\n",
              "      <td>1</td>\n",
              "      <td>female</td>\n",
              "      <td>38.000000</td>\n",
              "      <td>1</td>\n",
              "      <td>0</td>\n",
              "      <td>71.2833</td>\n",
              "      <td>C</td>\n",
              "      <td>Mrs</td>\n",
              "    </tr>\n",
              "    <tr>\n",
              "      <th>2</th>\n",
              "      <td>1</td>\n",
              "      <td>3</td>\n",
              "      <td>female</td>\n",
              "      <td>26.000000</td>\n",
              "      <td>0</td>\n",
              "      <td>0</td>\n",
              "      <td>7.9250</td>\n",
              "      <td>S</td>\n",
              "      <td>Miss</td>\n",
              "    </tr>\n",
              "    <tr>\n",
              "      <th>3</th>\n",
              "      <td>1</td>\n",
              "      <td>1</td>\n",
              "      <td>female</td>\n",
              "      <td>35.000000</td>\n",
              "      <td>1</td>\n",
              "      <td>0</td>\n",
              "      <td>53.1000</td>\n",
              "      <td>S</td>\n",
              "      <td>Mrs</td>\n",
              "    </tr>\n",
              "    <tr>\n",
              "      <th>4</th>\n",
              "      <td>0</td>\n",
              "      <td>3</td>\n",
              "      <td>male</td>\n",
              "      <td>35.000000</td>\n",
              "      <td>0</td>\n",
              "      <td>0</td>\n",
              "      <td>8.0500</td>\n",
              "      <td>S</td>\n",
              "      <td>Mr</td>\n",
              "    </tr>\n",
              "    <tr>\n",
              "      <th>...</th>\n",
              "      <td>...</td>\n",
              "      <td>...</td>\n",
              "      <td>...</td>\n",
              "      <td>...</td>\n",
              "      <td>...</td>\n",
              "      <td>...</td>\n",
              "      <td>...</td>\n",
              "      <td>...</td>\n",
              "      <td>...</td>\n",
              "    </tr>\n",
              "    <tr>\n",
              "      <th>886</th>\n",
              "      <td>0</td>\n",
              "      <td>2</td>\n",
              "      <td>male</td>\n",
              "      <td>27.000000</td>\n",
              "      <td>0</td>\n",
              "      <td>0</td>\n",
              "      <td>13.0000</td>\n",
              "      <td>S</td>\n",
              "      <td>Rev</td>\n",
              "    </tr>\n",
              "    <tr>\n",
              "      <th>887</th>\n",
              "      <td>1</td>\n",
              "      <td>1</td>\n",
              "      <td>female</td>\n",
              "      <td>19.000000</td>\n",
              "      <td>0</td>\n",
              "      <td>0</td>\n",
              "      <td>30.0000</td>\n",
              "      <td>S</td>\n",
              "      <td>Miss</td>\n",
              "    </tr>\n",
              "    <tr>\n",
              "      <th>888</th>\n",
              "      <td>0</td>\n",
              "      <td>3</td>\n",
              "      <td>female</td>\n",
              "      <td>29.699118</td>\n",
              "      <td>1</td>\n",
              "      <td>2</td>\n",
              "      <td>23.4500</td>\n",
              "      <td>S</td>\n",
              "      <td>Miss</td>\n",
              "    </tr>\n",
              "    <tr>\n",
              "      <th>889</th>\n",
              "      <td>1</td>\n",
              "      <td>1</td>\n",
              "      <td>male</td>\n",
              "      <td>26.000000</td>\n",
              "      <td>0</td>\n",
              "      <td>0</td>\n",
              "      <td>30.0000</td>\n",
              "      <td>C</td>\n",
              "      <td>Mr</td>\n",
              "    </tr>\n",
              "    <tr>\n",
              "      <th>890</th>\n",
              "      <td>0</td>\n",
              "      <td>3</td>\n",
              "      <td>male</td>\n",
              "      <td>32.000000</td>\n",
              "      <td>0</td>\n",
              "      <td>0</td>\n",
              "      <td>7.7500</td>\n",
              "      <td>Q</td>\n",
              "      <td>Mr</td>\n",
              "    </tr>\n",
              "  </tbody>\n",
              "</table>\n",
              "<p>891 rows × 9 columns</p>\n",
              "</div>\n",
              "      <button class=\"colab-df-convert\" onclick=\"convertToInteractive('df-b85c45fe-59e3-428c-a35c-ec0c3ddae169')\"\n",
              "              title=\"Convert this dataframe to an interactive table.\"\n",
              "              style=\"display:none;\">\n",
              "        \n",
              "  <svg xmlns=\"http://www.w3.org/2000/svg\" height=\"24px\"viewBox=\"0 0 24 24\"\n",
              "       width=\"24px\">\n",
              "    <path d=\"M0 0h24v24H0V0z\" fill=\"none\"/>\n",
              "    <path d=\"M18.56 5.44l.94 2.06.94-2.06 2.06-.94-2.06-.94-.94-2.06-.94 2.06-2.06.94zm-11 1L8.5 8.5l.94-2.06 2.06-.94-2.06-.94L8.5 2.5l-.94 2.06-2.06.94zm10 10l.94 2.06.94-2.06 2.06-.94-2.06-.94-.94-2.06-.94 2.06-2.06.94z\"/><path d=\"M17.41 7.96l-1.37-1.37c-.4-.4-.92-.59-1.43-.59-.52 0-1.04.2-1.43.59L10.3 9.45l-7.72 7.72c-.78.78-.78 2.05 0 2.83L4 21.41c.39.39.9.59 1.41.59.51 0 1.02-.2 1.41-.59l7.78-7.78 2.81-2.81c.8-.78.8-2.07 0-2.86zM5.41 20L4 18.59l7.72-7.72 1.47 1.35L5.41 20z\"/>\n",
              "  </svg>\n",
              "      </button>\n",
              "      \n",
              "  <style>\n",
              "    .colab-df-container {\n",
              "      display:flex;\n",
              "      flex-wrap:wrap;\n",
              "      gap: 12px;\n",
              "    }\n",
              "\n",
              "    .colab-df-convert {\n",
              "      background-color: #E8F0FE;\n",
              "      border: none;\n",
              "      border-radius: 50%;\n",
              "      cursor: pointer;\n",
              "      display: none;\n",
              "      fill: #1967D2;\n",
              "      height: 32px;\n",
              "      padding: 0 0 0 0;\n",
              "      width: 32px;\n",
              "    }\n",
              "\n",
              "    .colab-df-convert:hover {\n",
              "      background-color: #E2EBFA;\n",
              "      box-shadow: 0px 1px 2px rgba(60, 64, 67, 0.3), 0px 1px 3px 1px rgba(60, 64, 67, 0.15);\n",
              "      fill: #174EA6;\n",
              "    }\n",
              "\n",
              "    [theme=dark] .colab-df-convert {\n",
              "      background-color: #3B4455;\n",
              "      fill: #D2E3FC;\n",
              "    }\n",
              "\n",
              "    [theme=dark] .colab-df-convert:hover {\n",
              "      background-color: #434B5C;\n",
              "      box-shadow: 0px 1px 3px 1px rgba(0, 0, 0, 0.15);\n",
              "      filter: drop-shadow(0px 1px 2px rgba(0, 0, 0, 0.3));\n",
              "      fill: #FFFFFF;\n",
              "    }\n",
              "  </style>\n",
              "\n",
              "      <script>\n",
              "        const buttonEl =\n",
              "          document.querySelector('#df-b85c45fe-59e3-428c-a35c-ec0c3ddae169 button.colab-df-convert');\n",
              "        buttonEl.style.display =\n",
              "          google.colab.kernel.accessAllowed ? 'block' : 'none';\n",
              "\n",
              "        async function convertToInteractive(key) {\n",
              "          const element = document.querySelector('#df-b85c45fe-59e3-428c-a35c-ec0c3ddae169');\n",
              "          const dataTable =\n",
              "            await google.colab.kernel.invokeFunction('convertToInteractive',\n",
              "                                                     [key], {});\n",
              "          if (!dataTable) return;\n",
              "\n",
              "          const docLinkHtml = 'Like what you see? Visit the ' +\n",
              "            '<a target=\"_blank\" href=https://colab.research.google.com/notebooks/data_table.ipynb>data table notebook</a>'\n",
              "            + ' to learn more about interactive tables.';\n",
              "          element.innerHTML = '';\n",
              "          dataTable['output_type'] = 'display_data';\n",
              "          await google.colab.output.renderOutput(dataTable, element);\n",
              "          const docLink = document.createElement('div');\n",
              "          docLink.innerHTML = docLinkHtml;\n",
              "          element.appendChild(docLink);\n",
              "        }\n",
              "      </script>\n",
              "    </div>\n",
              "  </div>\n",
              "  "
            ]
          },
          "metadata": {},
          "execution_count": 127
        }
      ]
    },
    {
      "cell_type": "code",
      "metadata": {
        "id": "IZF7_Jfagbd_"
      },
      "source": [
        "#write code here\n",
        "train_df['Family_members'] = train_df['SibSp'].add(train_df['Parch'])"
      ],
      "execution_count": 128,
      "outputs": []
    },
    {
      "cell_type": "markdown",
      "metadata": {
        "id": "1jrABHyphdWg"
      },
      "source": [
        " - Now you may remove the two columns SibSP and Parch<br>\n",
        " It is important to remove them because they introduce multicollinearity in our dataset now as the new column Family_members is directly dependent on them.<br>\n",
        " Multicollinearity is deadly to linear models that we will look into later"
      ]
    },
    {
      "cell_type": "code",
      "metadata": {
        "id": "aPf3p6WChc3g",
        "colab": {
          "base_uri": "https://localhost:8080/"
        },
        "outputId": "bddacf6c-1414-485b-ea85-0f4355d1eeab"
      },
      "source": [
        "#write code here\n",
        "\n",
        "train_df = train_df.drop(columns=['SibSp', 'Parch'])\n",
        "print(train_df)"
      ],
      "execution_count": 129,
      "outputs": [
        {
          "output_type": "stream",
          "name": "stdout",
          "text": [
            "     Survived  Pclass     Sex        Age     Fare Embarked Title  \\\n",
            "0           0       3    male  22.000000   7.2500        S    Mr   \n",
            "1           1       1  female  38.000000  71.2833        C   Mrs   \n",
            "2           1       3  female  26.000000   7.9250        S  Miss   \n",
            "3           1       1  female  35.000000  53.1000        S   Mrs   \n",
            "4           0       3    male  35.000000   8.0500        S    Mr   \n",
            "..        ...     ...     ...        ...      ...      ...   ...   \n",
            "886         0       2    male  27.000000  13.0000        S   Rev   \n",
            "887         1       1  female  19.000000  30.0000        S  Miss   \n",
            "888         0       3  female  29.699118  23.4500        S  Miss   \n",
            "889         1       1    male  26.000000  30.0000        C    Mr   \n",
            "890         0       3    male  32.000000   7.7500        Q    Mr   \n",
            "\n",
            "     Family_members  \n",
            "0                 1  \n",
            "1                 1  \n",
            "2                 0  \n",
            "3                 1  \n",
            "4                 0  \n",
            "..              ...  \n",
            "886               0  \n",
            "887               0  \n",
            "888               3  \n",
            "889               0  \n",
            "890               0  \n",
            "\n",
            "[891 rows x 8 columns]\n"
          ]
        }
      ]
    },
    {
      "cell_type": "markdown",
      "metadata": {
        "id": "Az401HQIi8FR"
      },
      "source": [
        "### 5.d. Scaling and Normalization\n",
        "we don't want to give undue advantage to a few columns (when training models), just because they have a numeric data that is larger in magnitude.<br>\n",
        "Therefore we scale all values down to a specific range or distribution\n",
        "<br>"
      ]
    },
    {
      "cell_type": "markdown",
      "metadata": {
        "id": "8uXii3c6jx-4"
      },
      "source": [
        " - Columns to apply scaling on\n",
        "  - Age\n",
        "  - Fare\n",
        "  - Family_members\n",
        "\n",
        "- Although Pclass column is numeric, it contains classification data (only 1, 2 and 3). Therefore only continuous data like age, fare, etc needs to be normalized"
      ]
    },
    {
      "cell_type": "markdown",
      "metadata": {
        "id": "NwDqNCcrlYtR"
      },
      "source": [
        " - Read about standardization and normalization in this link https://www.geeksforgeeks.org/normalization-vs-standardization/\n",
        " - apply the formulas given in the link above and scale/normalize the features that are supposed to be scaled\n",
        " - It is your choice to choose wether you choose to normalize or standardize a column. You will be able to make your choice after reading the link contents.\n",
        " - If you feel confused with the choice, then you can go ahead and directly normalize."
      ]
    },
    {
      "cell_type": "code",
      "metadata": {
        "id": "9LzoSA42h_wv"
      },
      "source": [
        "#write code here to normalize  age X_new = (X - X_min)/(X_max - X_min)\n"
      ],
      "execution_count": 130,
      "outputs": []
    },
    {
      "cell_type": "code",
      "metadata": {
        "id": "C88SQvKkm-r8"
      },
      "source": [
        "#Write code to standardize fare X_new = (X - mean)/Std\n"
      ],
      "execution_count": 131,
      "outputs": []
    },
    {
      "cell_type": "markdown",
      "metadata": {
        "id": "8KXM4Xe0m-bj"
      },
      "source": [
        "### 5.e. One hot encoding\n",
        "Machine Learning models do not understand strings <br>\n",
        "They understand numbers<br>\n",
        "That is one of the reasons why we one hot encode few columns<br>\n",
        "\n",
        "- refer this link for more information : https://datagy.io/pandas-get-dummies/\n",
        "- you can use this or directly look into pandas get_dummies() method to implement this"
      ]
    },
    {
      "cell_type": "markdown",
      "metadata": {
        "id": "1IIsD-KcpVBc"
      },
      "source": [
        "- columns to apply one_hot encoding on\n",
        " - Pclass\n",
        " - Sex\n",
        " - Title\n",
        " - Embarked\n"
      ]
    },
    {
      "cell_type": "code",
      "metadata": {
        "id": "Y60WNgwLjrmn"
      },
      "source": [
        "#write code here\n"
      ],
      "execution_count": 132,
      "outputs": []
    },
    {
      "cell_type": "code",
      "metadata": {
        "id": "r4wogy53paiL"
      },
      "source": [
        "#show the final dataframe here\n"
      ],
      "execution_count": 133,
      "outputs": []
    },
    {
      "cell_type": "markdown",
      "metadata": {
        "id": "QhGsnsY4puYz"
      },
      "source": [
        "End of Preprocessing"
      ]
    }
  ]
}